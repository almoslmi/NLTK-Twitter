{
 "cells": [
  {
   "cell_type": "markdown",
   "metadata": {},
   "source": [
    "## Exploring the NLTK / TextBlob modules on tweets about Apple, days after the infamous airpods keynote"
   ]
  },
  {
   "cell_type": "markdown",
   "metadata": {},
   "source": [
    "Twitter's API (and the tweepy module) makes it pretty easy to capture tweets streaming in real time about a given search term of topic. We'll define a term, \"listen\" to a given number of tweets containing the term, and analyze what people are saying through the NLTK and TextBlob packages."
   ]
  },
  {
   "cell_type": "markdown",
   "metadata": {},
   "source": [
    "Credit for most of this code goes to O'Reilly's Mining the Social Web, and the specific iPython Notebook on this topic can be found here: http://nbviewer.jupyter.org/github/ptwobrussell/Mining-the-Social-Web-2nd-Edition/blob/master/ipynb/__Understanding%20the%20Reaction%20to%20Amazon%20Prime%20Air.ipynb"
   ]
  },
  {
   "cell_type": "markdown",
   "metadata": {},
   "source": [
    "Where the author used more advanced or well designed Python code, I've tried to simplify it down to something I would have done myself, and not copied."
   ]
  },
  {
   "cell_type": "code",
   "execution_count": 3,
   "metadata": {
    "collapsed": true
   },
   "outputs": [],
   "source": [
    "%matplotlib inline\n",
    "import matplotlib.pyplot as plt\n",
    "import csv\n",
    "import pandas as pd\n",
    "import tweepy\n",
    "import seaborn as sns"
   ]
  },
  {
   "cell_type": "markdown",
   "metadata": {},
   "source": [
    "Don't worry, these keys are for a special account I made for this purpose. Or are they?"
   ]
  },
  {
   "cell_type": "code",
   "execution_count": 148,
   "metadata": {
    "collapsed": true
   },
   "outputs": [],
   "source": [
    "#Define consumer keys (don't share these!)\n",
    "\n",
    "consumer_key = 'YO2DGgw4Y7fiOQ5QqglG98z6R'\n",
    "consumer_secret = '8KLklsRUYSn7YYeFp1uxNb3AVFocH4Yp8ixFJzcTk8T7Mr5Gjb'\n",
    "oauth_token = '637197054-S7blHnW3kx8P6VUYgane3OYMtHaUQhwvEzRosr3i'\n",
    "oauth_token_secret = 'yRN2GrKLB40SMZLWAkSkCU2Y8SggJm7oUe44P0NCrP87E'"
   ]
  },
  {
   "cell_type": "code",
   "execution_count": 149,
   "metadata": {
    "collapsed": false
   },
   "outputs": [
    {
     "name": "stdout",
     "output_type": "stream",
     "text": [
      "<tweepy.api.API object at 0x119275dd0>\n"
     ]
    }
   ],
   "source": [
    "#Initializing the API\n",
    "\n",
    "auth = tweepy.OAuthHandler(consumer_key=consumer_key, consumer_secret=consumer_secret)\n",
    "auth.set_access_token(oauth_token, oauth_token_secret)\n",
    "api = tweepy.API(auth)\n",
    "print api"
   ]
  },
  {
   "cell_type": "markdown",
   "metadata": {},
   "source": [
    "We'll start with creating an empty csv file with our desired fields, to write into. We can run this block any time we want to reset the results."
   ]
  },
  {
   "cell_type": "code",
   "execution_count": 150,
   "metadata": {
    "collapsed": false
   },
   "outputs": [],
   "source": [
    "with open('streamed_tweets.csv', 'wb') as f:\n",
    "    writer = csv.writer(f)\n",
    "    writer.writerow(['author_name', 'author_desc', 'tweet','language'])"
   ]
  },
  {
   "cell_type": "markdown",
   "metadata": {},
   "source": [
    "Now we'll define the stream listener class, or what will actually be grabbing our tweets. We'll also put a counter in to make sure that it stops listening once it reaches the max amount of tweets we want."
   ]
  },
  {
   "cell_type": "code",
   "execution_count": 151,
   "metadata": {
    "collapsed": true
   },
   "outputs": [],
   "source": [
    "#Create the stream listener class\n",
    "\n",
    "class MyStreamListener(tweepy.StreamListener):\n",
    "    \n",
    "    #Set collection limit (http://stackoverflow.com/questions/20863486/tweepy-streaming-stop-collecting-tweets-at-x-amount)\n",
    "    \n",
    "    def __init__(self):\n",
    "        super(MyStreamListener, self).__init__()\n",
    "        self.number_of_tweets = 0\n",
    "        \n",
    "    def on_status(self,status):\n",
    "        \n",
    "        try:\n",
    "\n",
    "            with open('streamed_tweets.csv', 'ab') as f:\n",
    "                writer = csv.writer(f)\n",
    "                writer.writerow([status.author.name, status.author.description, status.text, status.lang])\n",
    "                self.number_of_tweets += 1\n",
    "\n",
    "            if self.number_of_tweets <= max_tweets:\n",
    "                return True\n",
    "            else:\n",
    "                return False\n",
    "            \n",
    "        #When moving from a CSV to a dataframe (later), Python has encoding errors for unusual characters.    \n",
    "            \n",
    "        except UnicodeEncodeError:\n",
    "            pass\n",
    "        \n",
    "    #Disconnect stream on 420 error    \n",
    "        \n",
    "    def on_error(self, status_code):\n",
    "        if status_code == 420:\n",
    "            return False "
   ]
  },
  {
   "cell_type": "markdown",
   "metadata": {},
   "source": [
    "With the class defined, we can set our query (q), max number of tweets (max_tweets), and initialize and instance of the listener."
   ]
  },
  {
   "cell_type": "code",
   "execution_count": 152,
   "metadata": {
    "collapsed": false
   },
   "outputs": [],
   "source": [
    "#Initialize instance of the class\n",
    "\n",
    "q = 'apple'\n",
    "max_tweets = 1000\n",
    "\n",
    "myStreamListener = MyStreamListener()\n",
    "myStream = tweepy.Stream(auth = api.auth, listener = myStreamListener)\n",
    "myStream.filter(track=[q])"
   ]
  },
  {
   "cell_type": "code",
   "execution_count": 53,
   "metadata": {
    "collapsed": false
   },
   "outputs": [],
   "source": [
    "#Read CSV into Pandas dataframe\n",
    "\n",
    "df = pd.read_csv('streamed_tweets.csv')\n",
    "\n",
    "#Create new array with only english tweets\n",
    "\n",
    "tweets = df[df['language'] == 'en'].pop('tweet')"
   ]
  },
  {
   "cell_type": "markdown",
   "metadata": {},
   "source": [
    "Now that we have our data, it's time to start looking at it. Before we get into NLTK, we'll separate all of the words in the tweets we collected and order them by how common they are."
   ]
  },
  {
   "cell_type": "code",
   "execution_count": 54,
   "metadata": {
    "collapsed": false
   },
   "outputs": [],
   "source": [
    "#Create a list of all of the words in the tweets\n",
    "\n",
    "tokens = []\n",
    "for text in tweets.values:\n",
    "    for t in text.split():\n",
    "        tokens.append(t.lower().strip(\":.,\"))"
   ]
  },
  {
   "cell_type": "code",
   "execution_count": 55,
   "metadata": {
    "collapsed": false
   },
   "outputs": [
    {
     "data": {
      "text/plain": [
       "[('apple', 681),\n",
       " ('i', 476),\n",
       " ('to', 334),\n",
       " ('the', 311),\n",
       " ('on', 276),\n",
       " ('a', 275),\n",
       " ('that', 234),\n",
       " ('rt', 228),\n",
       " ('my', 226),\n",
       " ('u', 215)]"
      ]
     },
     "execution_count": 55,
     "metadata": {},
     "output_type": "execute_result"
    }
   ],
   "source": [
    "#Use the counter package to find the most common words\n",
    "\n",
    "from collections import Counter\n",
    "\n",
    "tokens_counter = Counter(tokens)\n",
    "tokens_counter.most_common(10)"
   ]
  },
  {
   "cell_type": "markdown",
   "metadata": {},
   "source": [
    "Now let's get started with NLTK!"
   ]
  },
  {
   "cell_type": "code",
   "execution_count": 56,
   "metadata": {
    "collapsed": true
   },
   "outputs": [],
   "source": [
    "#Import module\n",
    "\n",
    "import nltk"
   ]
  },
  {
   "cell_type": "markdown",
   "metadata": {},
   "source": [
    "The first thing we need to do is get rid of what NLTK calls \"stopwords\" – things like \"and\" and \"the\"."
   ]
  },
  {
   "cell_type": "code",
   "execution_count": 57,
   "metadata": {
    "collapsed": false
   },
   "outputs": [
    {
     "name": "stdout",
     "output_type": "stream",
     "text": [
      "[nltk_data] Downloading package stopwords to\n",
      "[nltk_data]     /Users/Justin/nltk_data...\n",
      "[nltk_data]   Package stopwords is already up-to-date!\n"
     ]
    },
    {
     "data": {
      "text/plain": [
       "[('apple', 681),\n",
       " ('rt', 228),\n",
       " ('u', 215),\n",
       " ('-', 207),\n",
       " ('app', 205),\n",
       " (\"it's\", 201),\n",
       " ('ios', 151),\n",
       " ('new', 116),\n",
       " ('7', 112),\n",
       " ('iphone', 111)]"
      ]
     },
     "execution_count": 57,
     "metadata": {},
     "output_type": "execute_result"
    }
   ],
   "source": [
    "nltk.download('stopwords')\n",
    "\n",
    "for t in nltk.corpus.stopwords.words('english'):\n",
    "    if t in tokens_counter:\n",
    "        tokens_counter.pop(t)\n",
    "        \n",
    "tokens_counter.most_common(10)        "
   ]
  },
  {
   "cell_type": "markdown",
   "metadata": {},
   "source": [
    "Let's try to put some of these words together and find some phrases across these tweets. From the NLTK website, collocations are \"expressions of multiple words which commonly co-occur.\""
   ]
  },
  {
   "cell_type": "code",
   "execution_count": 58,
   "metadata": {
    "collapsed": false
   },
   "outputs": [
    {
     "name": "stdout",
     "output_type": "stream",
     "text": [
      "app it's; it's called; it's known; \"my training\"; ever top; never\n",
      "ever; could never; iconic ios; free app; new app; ios app; idc apple;\n",
      "called \"mytraining\"; apple store; called mytraining; called \"my; apple\n",
      "could; #applications #itunes; lasts forever; @femalepains idc\n"
     ]
    }
   ],
   "source": [
    "nltk_text = nltk.Text(tokens)\n",
    "nltk_text.collocations()"
   ]
  },
  {
   "cell_type": "markdown",
   "metadata": {},
   "source": [
    "Let's check out the context of some of these phrases using NLTK's concordance function."
   ]
  },
  {
   "cell_type": "code",
   "execution_count": 59,
   "metadata": {
    "collapsed": false
   },
   "outputs": [
    {
     "name": "stdout",
     "output_type": "stream",
     "text": [
      "Displaying 25 of 151 matches:\n",
      "out lover so i invite you to check my ios app it's known as mytraining on apple\n",
      "apple could never ever top the iconic ios 7 update https://t.co/ilmeppkec7 rt @\n",
      "xercise fan so i invite you to see my ios app it's called mytraining on apple h\n",
      "ing enthusiast so i ask u to check my ios app it's called mytraining on apple h\n",
      "n apple store https://t.co/bexjhz0m97 ios 10 features 10 exciting changes comin\n",
      "nyjwqal all these new features on the ios 10 update yet u still can't add a \"cl\n",
      "apple could never ever top the iconic ios 7 update https://t.co/wydzivfiws rt @\n",
      "apple could never ever top the iconic ios 7 update https://t.co/hqkc3mynzf rt @\n",
      "apple could never ever top the iconic ios 7 update https://t.co/js8pzkrzcm spot\n",
      "t.co/wx1bmztfjs #applications #itunes ios 10 seriously sucks let's get it toget\n",
      "m enthusiast so i suggest u to see my ios app it's called \"mytraining\" on apple\n",
      " health fan so i suggest u to test my ios app it's called mytraining on apple h\n",
      " a fitness fan so i ask you to try my ios app it's known as \"mytraining\" on app\n",
      " a health fan so i ask you to test my ios app it's called \"mytraining\" on apple\n",
      "tps://t.co/so0yn61qoe just downloaded ios 10 and it is so amazing to delete all\n",
      "apple could never ever top the iconic ios 7 update https://t.co/wydzivfiws rt @\n",
      "ercise lover so i invite u to test my ios app it's called \"my training\" on appl\n",
      "out enthusiast so i ask you to try my ios app it's called \"my training\" on appl\n",
      "apple could never ever top the iconic ios 7 update https://t.co/d8azo5xcf9 hi i\n",
      "t.co/yrd7feol8r only cool thing about ios 10 is night shift mode way to go appl\n",
      "apple could never ever top the iconic ios 7 update https://t.co/wydzivfiws rt @\n",
      " gym fan so i suggest you to check my ios app it's known as \"mytraining\" on app\n",
      "apple could never ever top the iconic ios 7 update https://t.co/wydzivfiws @jam\n",
      "cise fan so i encourage u to check my ios app it's known as mytraining on apple\n",
      "health lover so i ask you to check my ios app it's called mytraining on apple h\n",
      "\n",
      "Displaying 25 of 82 matches:\n",
      "eartion https://t.co/gvnpnpzykl hey i saw that u are a gym admirer so i invite \n",
      "ing artist section wtf @apple ?! just saw a recipe for apple pie cookies i know\n",
      "u google https://t.co/v6an6da2dz hi i saw that u are a health fan so i suggest \n",
      "forever https://t.co/e6tqsvyvqp hey i saw that u are a training admirer so i as\n",
      "shl0rnhoa #applications #itunes hey i saw that u are a exercise lover so i invi\n",
      "ut1eaq6 #applications #itunes hello i saw that you're a gym lover so i suggest \n",
      "n apple https://t.co/57cllgmlrf hey i saw that u are a workout fan so i invite \n",
      "ne like everyone else lol shitty hi i saw that you're a gym lover so i suggest \n",
      "ogging #seo #tech #jbklutse #vr hey i saw that u are a health lover so i invite\n",
      " store https://t.co/olyefxyyzs heyy i saw that u are a training lover so i ask \n",
      "e store https://t.co/z0nhgneku3 hey i saw that u are a health fan so i ask you \n",
      "e stock https://t.co/3o9glzgavs hey i saw that u are a workout enthusiast so i \n",
      "mmercial https://t.co/9jhwfhlxvy hi i saw that you're a fitness fan so i encour\n",
      "ps://t.co/cdt2eyi8ch via @recode hi i saw that you're a exercise fan so i encou\n",
      " update https://t.co/d8azo5xcf9 hey i saw that u are a health fan so i suggest \n",
      "ny of the male hosts on fox news hi i saw that u are a health enthusiast so i i\n",
      "//t.co/tqv2socpcf #appleinvestor hi i saw that u are a fitness lover so i sugge\n",
      "sement https://t.co/tohroi4gtv heyy i saw that u are a gym lover so i invite u \n",
      "ple font https://t.co/cp5lnn5kws hi i saw that you're a gym fan so i invite you\n",
      "upqg4h9k https://t.co/5novzd5n7s hi i saw that you're a workout admirer so i su\n",
      "rywhere https://t.co/6ka8ygugyq hey i saw that you're a exercise lover so i inv\n",
      "7 update https://t.co/wydzivfiws hi i saw that u are a fitness lover so i ask y\n",
      "le store https://t.co/zigufr7c2w hi i saw that u are a workout lover so i encou\n",
      "kingxl https://t.co/3kn7eypg1w heyy i saw that u are a workout fan so i invite \n",
      "14 a1502 https://t.co/zolhsdc7dr hi i saw that you're a health lover so i sugge\n"
     ]
    }
   ],
   "source": [
    "nltk_text.concordance('ios')\n",
    "print \n",
    "nltk_text.concordance('saw')"
   ]
  },
  {
   "cell_type": "markdown",
   "metadata": {},
   "source": [
    "Hm... there seems to be one perpetrator that's tweet spamming this whole joint about his/her darn fitness app. Let's figure out who it is."
   ]
  },
  {
   "cell_type": "code",
   "execution_count": 60,
   "metadata": {
    "collapsed": false
   },
   "outputs": [
    {
     "data": {
      "text/plain": [
       "author_name\n",
       "#GRASSMONEY           1\n",
       "#HotDeal              1\n",
       "#MillionHitsSecret    1\n",
       "#PleaseReTweetTHIS    1\n",
       "#Solidarity101        1\n",
       "dtype: int64"
      ]
     },
     "execution_count": 60,
     "metadata": {},
     "output_type": "execute_result"
    }
   ],
   "source": [
    "authors = df.groupby('author_name').size()\n",
    "authors.head()"
   ]
  },
  {
   "cell_type": "markdown",
   "metadata": {},
   "source": [
    "Hm again... no authors with more than one tweet. But it's clearly the same tweet over and over again, so what's going on? Let's make a search for the tweet and gather the usernames."
   ]
  },
  {
   "cell_type": "code",
   "execution_count": 61,
   "metadata": {
    "collapsed": false
   },
   "outputs": [
    {
     "ename": "NameError",
     "evalue": "name 'api' is not defined",
     "output_type": "error",
     "traceback": [
      "\u001b[0;31m---------------------------------------------------------------------------\u001b[0m",
      "\u001b[0;31mNameError\u001b[0m                                 Traceback (most recent call last)",
      "\u001b[0;32m<ipython-input-61-607a4c3ac9fc>\u001b[0m in \u001b[0;36m<module>\u001b[0;34m()\u001b[0m\n\u001b[1;32m      4\u001b[0m \u001b[0mmax_tweets\u001b[0m \u001b[0;34m=\u001b[0m \u001b[0;36m100\u001b[0m\u001b[0;34m\u001b[0m\u001b[0m\n\u001b[1;32m      5\u001b[0m \u001b[0;34m\u001b[0m\u001b[0m\n\u001b[0;32m----> 6\u001b[0;31m \u001b[0msearch_results\u001b[0m \u001b[0;34m=\u001b[0m \u001b[0mapi\u001b[0m\u001b[0;34m.\u001b[0m\u001b[0msearch\u001b[0m\u001b[0;34m(\u001b[0m\u001b[0mq\u001b[0m\u001b[0;34m=\u001b[0m\u001b[0mquery\u001b[0m\u001b[0;34m,\u001b[0m \u001b[0mcount\u001b[0m\u001b[0;34m=\u001b[0m\u001b[0mmax_tweets\u001b[0m\u001b[0;34m)\u001b[0m\u001b[0;34m\u001b[0m\u001b[0m\n\u001b[0m",
      "\u001b[0;31mNameError\u001b[0m: name 'api' is not defined"
     ]
    }
   ],
   "source": [
    "#Set up query and execute search\n",
    "\n",
    "query = 'mytraining'\n",
    "max_tweets = 100\n",
    "\n",
    "search_results = api.search(q=query, count=max_tweets)"
   ]
  },
  {
   "cell_type": "code",
   "execution_count": null,
   "metadata": {
    "collapsed": false
   },
   "outputs": [],
   "source": [
    "#Extract list of users\n",
    "\n",
    "user_counts = {}\n",
    "\n",
    "for result in search_results:\n",
    "    if result.author.screen_name not in user_counts:\n",
    "        user_counts[result.author.screen_name] = 1\n",
    "    else:\n",
    "        user_counts[result.author.screen_name] += 1\n",
    "\n",
    "user_counts"
   ]
  },
  {
   "cell_type": "markdown",
   "metadata": {},
   "source": [
    "AHA!!! So some sort of bot has been creating Twitter accounts related to buzzwords like fitness, gym, and workout, to promote their app. Looks like we found our culprit – the reason why they didn't appear under the same username is because they're all slightly different, even though they're coming from the same place (and tweeting the same stuff)."
   ]
  },
  {
   "cell_type": "markdown",
   "metadata": {},
   "source": [
    "Twitter – if you're listening, let's fix this!"
   ]
  },
  {
   "cell_type": "markdown",
   "metadata": {},
   "source": [
    "Now aside from whoever this clown is, what are the accounts that are being mentioned the most in these tweets about apple?"
   ]
  },
  {
   "cell_type": "code",
   "execution_count": 62,
   "metadata": {
    "collapsed": false
   },
   "outputs": [
    {
     "data": {
      "text/plain": [
       "[('@Apple', 43),\n",
       " ('@FemalePains:', 18),\n",
       " ('@FreddyAmazin:', 10),\n",
       " ('@DisickReactions:', 8),\n",
       " ('@AppleSupport', 8),\n",
       " ('@_SydWrites:', 8),\n",
       " ('@Manstagram_:', 6),\n",
       " ('@NathanZed:', 6),\n",
       " ('@puppymnkey:', 5),\n",
       " ('@SoDamnTrue:', 5)]"
      ]
     },
     "execution_count": 62,
     "metadata": {},
     "output_type": "execute_result"
    }
   ],
   "source": [
    "#Make a list of the top accounts\n",
    "\n",
    "accounts = []\n",
    "\n",
    "for text in tweets:\n",
    "    for t in text.split():\n",
    "        if t.startswith(\"@\"):\n",
    "            accounts.append(t)\n",
    "            \n",
    "accounts_counter = Counter(accounts)          \n",
    "accounts_counter.most_common(10)"
   ]
  },
  {
   "cell_type": "markdown",
   "metadata": {},
   "source": [
    "Not surprising – Apple itself is at the top, followed by @FemalePains. Let's see what the content of that popular tweet is."
   ]
  },
  {
   "cell_type": "code",
   "execution_count": 63,
   "metadata": {
    "collapsed": false
   },
   "outputs": [
    {
     "data": {
      "text/plain": [
       "['RT @FemalePains: idc, Apple could never ever top the iconic iOS 7 update https://t.co/D8azo5XCF9',\n",
       " 'RT @FemalePains: idc, Apple could never ever top the iconic iOS 7 update https://t.co/D8azo5XCF9',\n",
       " 'RT @FemalePains: idc, Apple could never ever top the iconic iOS 7 update https://t.co/D8azo5XCF9',\n",
       " 'RT @FemalePains: idc, Apple could never ever top the iconic iOS 7 update https://t.co/D8azo5XCF9',\n",
       " 'RT @FemalePains: idc, Apple could never ever top the iconic iOS 7 update https://t.co/D8azo5XCF9',\n",
       " 'RT @FemalePains: idc, Apple could never ever top the iconic iOS 7 update https://t.co/D8azo5XCF9',\n",
       " 'RT @FemalePains: idc, Apple could never ever top the iconic iOS 7 update https://t.co/D8azo5XCF9',\n",
       " 'RT @FemalePains: idc, Apple could never ever top the iconic iOS 7 update https://t.co/D8azo5XCF9',\n",
       " 'RT @FemalePains: idc, Apple could never ever top the iconic iOS 7 update https://t.co/D8azo5XCF9',\n",
       " 'RT @FemalePains: idc, Apple could never ever top the iconic iOS 7 update https://t.co/D8azo5XCF9',\n",
       " 'RT @FemalePains: idc, Apple could never ever top the iconic iOS 7 update https://t.co/D8azo5XCF9',\n",
       " 'RT @FemalePains: idc, Apple could never ever top the iconic iOS 7 update https://t.co/D8azo5XCF9',\n",
       " 'RT @FemalePains: idc, Apple could never ever top the iconic iOS 7 update https://t.co/D8azo5XCF9',\n",
       " 'RT @FemalePains: idc, Apple could never ever top the iconic iOS 7 update https://t.co/D8azo5XCF9',\n",
       " 'RT @FemalePains: idc, Apple could never ever top the iconic iOS 7 update https://t.co/D8azo5XCF9',\n",
       " 'RT @FemalePains: idc, Apple could never ever top the iconic iOS 7 update https://t.co/D8azo5XCF9',\n",
       " 'RT @FemalePains: idc, Apple could never ever top the iconic iOS 7 update https://t.co/D8azo5XCF9',\n",
       " 'RT @FemalePains: idc, Apple could never ever top the iconic iOS 7 update https://t.co/D8azo5XCF9']"
      ]
     },
     "execution_count": 63,
     "metadata": {},
     "output_type": "execute_result"
    }
   ],
   "source": [
    "female_pains = []\n",
    "\n",
    "for text in tweets:\n",
    "    if '@FemalePains' in text:\n",
    "        female_pains.append(text)\n",
    "        \n",
    "female_pains    "
   ]
  },
  {
   "cell_type": "markdown",
   "metadata": {},
   "source": [
    "I would tend to agree with that – iOS 7 was a pretty awesome update."
   ]
  },
  {
   "cell_type": "markdown",
   "metadata": {},
   "source": [
    "### Let's play around with some of the NLTK token / tagging functionality."
   ]
  },
  {
   "cell_type": "markdown",
   "metadata": {},
   "source": [
    "#### First – how verbose are our tweets – how many are one sentence, and how many are more than one sentence?"
   ]
  },
  {
   "cell_type": "code",
   "execution_count": 64,
   "metadata": {
    "collapsed": false
   },
   "outputs": [],
   "source": [
    "#Import tokenize sentence module\n",
    "\n",
    "from nltk.tokenize import sent_tokenize\n",
    "\n",
    "sentence_list = []\n",
    "\n",
    "for text in tweets:\n",
    "    sentence = sent_tokenize(text)\n",
    "    sentence_list.append(sentence)"
   ]
  },
  {
   "cell_type": "markdown",
   "metadata": {},
   "source": [
    "We can make a histogram depicting what proportion of tweets have more than one sentence."
   ]
  },
  {
   "cell_type": "code",
   "execution_count": 65,
   "metadata": {
    "collapsed": false
   },
   "outputs": [
    {
     "data": {
      "text/plain": [
       "<matplotlib.axes._subplots.AxesSubplot at 0x119d62c90>"
      ]
     },
     "execution_count": 65,
     "metadata": {},
     "output_type": "execute_result"
    },
    {
     "data": {
      "image/png": "[encoded data removed]",
      "text/plain": [
       "<matplotlib.figure.Figure at 0x11974e9d0>"
      ]
     },
     "metadata": {},
     "output_type": "display_data"
    }
   ],
   "source": [
    "one = 0\n",
    "more_than_one = 0\n",
    "x = ['one sentence','more than one sentence']\n",
    "\n",
    "for tweet in sentence_list:\n",
    "    if len(tweet) <= 1:\n",
    "        one += 1\n",
    "    else:\n",
    "        more_than_one += 1\n",
    "\n",
    "y = [one,more_than_one]\n",
    "sns.barplot(x=x, y=y)"
   ]
  },
  {
   "cell_type": "markdown",
   "metadata": {},
   "source": [
    "#### Second – words. Which words appear the most in our tweets?"
   ]
  },
  {
   "cell_type": "markdown",
   "metadata": {},
   "source": [
    "We already have a list of the tweeted words defined above with the Counter module, but let's see how we can also do it in NLTK."
   ]
  },
  {
   "cell_type": "code",
   "execution_count": 66,
   "metadata": {
    "collapsed": false
   },
   "outputs": [],
   "source": [
    "#Import tokenize words module\n",
    "\n",
    "from nltk.tokenize import word_tokenize\n",
    "\n",
    "words_dict = {}\n",
    "\n",
    "for text in tweets:\n",
    "    words = word_tokenize(text)\n",
    "    \n",
    "    for word in words:\n",
    "        if word not in words_dict:\n",
    "            words_dict[word] = 1\n",
    "        else:\n",
    "            words_dict[word] += 1"
   ]
  },
  {
   "cell_type": "code",
   "execution_count": 67,
   "metadata": {
    "collapsed": false
   },
   "outputs": [
    {
     "data": {
      "text/plain": [
       "OrderedDict([('https', 876),\n",
       "             ('Apple', 673),\n",
       "             ('I', 493),\n",
       "             (\"'s\", 324),\n",
       "             ('RT', 228),\n",
       "             ('u', 214),\n",
       "             ('app', 198),\n",
       "             ('iOS', 150),\n",
       "             ('apple', 138),\n",
       "             ('iPhone', 117),\n",
       "             ('7', 113),\n",
       "             ('called', 110),\n",
       "             ('new', 91),\n",
       "             ('fan', 87),\n",
       "             (\"'re\", 86),\n",
       "             ('saw', 82),\n",
       "             ('!', 79),\n",
       "             ('known', 78),\n",
       "             ('?', 78),\n",
       "             ('update', 73),\n",
       "             ('training', 72),\n",
       "             ('MyTraining', 70),\n",
       "             ('mytraining', 68),\n",
       "             ('ask', 65),\n",
       "             ('The', 65),\n",
       "             ('try', 59),\n",
       "             ('lover', 57),\n",
       "             ('never', 56),\n",
       "             ('free', 56),\n",
       "             ('could', 55),\n",
       "             ('checked', 54),\n",
       "             ('hey', 54),\n",
       "             ('hi', 54),\n",
       "             ('...', 53),\n",
       "             ('suggest', 53),\n",
       "             ('noticed', 53),\n",
       "             ('ever', 52),\n",
       "             ('store', 52),\n",
       "             ('see', 52),\n",
       "             ('top', 51),\n",
       "             ('test', 49),\n",
       "             ('iconic', 48),\n",
       "             ('idc', 47),\n",
       "             ('invite', 47),\n",
       "             (';', 47),\n",
       "             ('heyy', 46),\n",
       "             ('gym', 45),\n",
       "             ('Music', 43),\n",
       "             ('Watch', 39),\n",
       "             (\"n't\", 38),\n",
       "             ('&', 37),\n",
       "             ('hello', 34),\n",
       "             ('exercise', 34),\n",
       "             ('check', 32),\n",
       "             ('admirer', 32),\n",
       "             ('10', 31),\n",
       "             ('iTunes', 31),\n",
       "             ('fitness', 30),\n",
       "             ('16GB', 30),\n",
       "             ('health', 30),\n",
       "             ('amp', 30),\n",
       "             ('workout', 27),\n",
       "             ('6', 27),\n",
       "             ('rho', 27),\n",
       "             ('iOS10', 26),\n",
       "             ('TV', 26),\n",
       "             ('like', 25),\n",
       "             ('Smartphone', 24),\n",
       "             ('2', 24),\n",
       "             ('encourage', 23),\n",
       "             ('iPad', 23),\n",
       "             ('New', 21),\n",
       "             ('CNET', 19),\n",
       "             ('first', 18),\n",
       "             ('Applications', 18),\n",
       "             ('FemalePains', 18),\n",
       "             ('//t.co/D8azo5XCF9', 18),\n",
       "             ('Unlocked', 17),\n",
       "             ('product', 16),\n",
       "             ('get', 16),\n",
       "             ('3', 16),\n",
       "             ('gun', 16),\n",
       "             ('Wi-Fi', 16),\n",
       "             ('ad', 16),\n",
       "             ('Trump', 15),\n",
       "             ('When', 15),\n",
       "             ('really', 15),\n",
       "             ('emoji', 15),\n",
       "             ('For', 15),\n",
       "             ('loyal', 14),\n",
       "             ('forever', 14),\n",
       "             ('Silver', 14),\n",
       "             ('Paid', 14),\n",
       "             ('via', 14),\n",
       "             ('lasts', 14),\n",
       "             ('Twitter', 14),\n",
       "             ('phone', 13),\n",
       "             ('Spotify', 13),\n",
       "             ('time', 13),\n",
       "             ('enthusiast', 13),\n",
       "             ('movie', 13),\n",
       "             ('Case', 13),\n",
       "             ('Are', 12),\n",
       "             ('Series', 12),\n",
       "             ('If', 12),\n",
       "             (\"'\", 12),\n",
       "             ('You', 12),\n",
       "             ('know', 12),\n",
       "             ('40', 12),\n",
       "             ('music', 11),\n",
       "             ('work', 11),\n",
       "             ('A', 11),\n",
       "             ('Join', 11),\n",
       "             (\"'m\", 11),\n",
       "             ('blame', 11),\n",
       "             ('horror', 11),\n",
       "             ('Google', 11),\n",
       "             ('Display', 11),\n",
       "             ('Chip', 11),\n",
       "             ('expensive', 11),\n",
       "             ('big', 11),\n",
       "             ('Now', 11),\n",
       "             ('UK', 11),\n",
       "             ('pie', 11),\n",
       "             ('//t.co/wydzIVfIWS', 10),\n",
       "             ('FreddyAmazin', 10),\n",
       "             ('iphone', 10),\n",
       "             ('White', 10),\n",
       "             ('still', 10),\n",
       "             ('oil', 10),\n",
       "             ('Cider', 10),\n",
       "             ('Air', 10),\n",
       "             ('upcoming', 10),\n",
       "             ('This', 10),\n",
       "             ('Gold', 10),\n",
       "             ('Brexit', 9),\n",
       "             ('omega', 9),\n",
       "             ('EBAYIPADS', 9),\n",
       "             ('Latest', 9),\n",
       "             ('Higher', 9),\n",
       "             ('subscribers', 9),\n",
       "             ('Expected', 9),\n",
       "             ('million', 9),\n",
       "             ('App', 9),\n",
       "             ('one', 9),\n",
       "             ('paid', 9),\n",
       "             ('Emoji', 9),\n",
       "             ('What', 9),\n",
       "             ('Than', 9),\n",
       "             ('boat', 9),\n",
       "             ('kappa', 9),\n",
       "             ('Is', 9),\n",
       "             ('fish', 9),\n",
       "             ('delta', 9),\n",
       "             ('chi', 9),\n",
       "             ('sig', 9),\n",
       "             ('stock', 9),\n",
       "             ('phi', 9),\n",
       "             ('made', 9),\n",
       "             ('Orders', 9),\n",
       "             ('second', 8),\n",
       "             ('AAPL', 8),\n",
       "             ('bar', 8),\n",
       "             ('9.7in', 8),\n",
       "             ('Gray', 8),\n",
       "             ('DisickReactions', 8),\n",
       "             ('love', 8),\n",
       "             ('Australia', 8),\n",
       "             ('Cover', 8),\n",
       "             ('We', 8),\n",
       "             ('comes', 8),\n",
       "             ('It', 8),\n",
       "             (\"'ve\", 8),\n",
       "             ('Store', 8),\n",
       "             ('Space', 8),\n",
       "             ('Read', 8),\n",
       "             ('//t.co/jS8pZKRzcM', 8),\n",
       "             ('32GB', 8),\n",
       "             ('_SydWrites', 8),\n",
       "             ('charm', 8),\n",
       "             ('available', 8),\n",
       "             ('APPLE', 8),\n",
       "             ('Fire', 8),\n",
       "             ('AppleSupport', 8),\n",
       "             ('commercial', 8),\n",
       "             ('vs.', 8),\n",
       "             ('raised', 8),\n",
       "             ('//t.co/9JHWFhlxVY', 8),\n",
       "             ('ios10', 7),\n",
       "             ('want', 7),\n",
       "             ('All', 7),\n",
       "             ('Here', 7),\n",
       "             ('got', 7),\n",
       "             ('release', 7),\n",
       "             ('life', 7),\n",
       "             ('make', 7),\n",
       "             ('preorders', 7),\n",
       "             ('right', 7),\n",
       "             ('people', 7),\n",
       "             ('way', 7),\n",
       "             ('Plus', 7),\n",
       "             ('Why', 7),\n",
       "             ('mac', 7),\n",
       "             ('Black', 7),\n",
       "             ('wireless', 7),\n",
       "             ('emojis', 7),\n",
       "             ('Listen', 7),\n",
       "             ('Xbox', 7),\n",
       "             ('Business', 7),\n",
       "             ('needs', 7),\n",
       "             ('To', 7),\n",
       "             ('gt', 7),\n",
       "             ('One', 7),\n",
       "             ('Review', 7),\n",
       "             ('64GB', 7),\n",
       "             ('Verizon', 7),\n",
       "             ('And', 7),\n",
       "             ('US', 7),\n",
       "             ('+', 6),\n",
       "             ('Amazon', 6),\n",
       "             ('would', 6),\n",
       "             ('thing', 6),\n",
       "             ('Just', 6),\n",
       "             ('1st', 6),\n",
       "             ('awesome', 6),\n",
       "             ('Manstagram_', 6),\n",
       "             ('Insider', 6),\n",
       "             ('Samsung', 6),\n",
       "             ('headphones', 6),\n",
       "             ('Love', 6),\n",
       "             ('But', 6),\n",
       "             ('6S', 6),\n",
       "             ('taking', 6),\n",
       "             ('IT', 6),\n",
       "             ('hire', 6),\n",
       "             ('5', 6),\n",
       "             ('CNN', 6),\n",
       "             ('fall', 6),\n",
       "             ('since', 6),\n",
       "             ('APPS', 6),\n",
       "             ('AirPods', 6),\n",
       "             ('My', 6),\n",
       "             ('look', 6),\n",
       "             ('About', 6),\n",
       "             ('T', 6),\n",
       "             ('fucking', 6),\n",
       "             ('Deals', 6),\n",
       "             ('//t.co/PKfNnoW4uG', 6),\n",
       "             ('products', 6),\n",
       "             ('NathanZed', 6),\n",
       "             ('No', 6),\n",
       "             ('day', 6),\n",
       "             ('|', 6),\n",
       "             ('TimCook', 6),\n",
       "             ('need', 6),\n",
       "             ('Donald', 6),\n",
       "             ('Update', 6),\n",
       "             ('ca', 6),\n",
       "             ('Generation', 6),\n",
       "             ('buy', 6),\n",
       "             ('Stickers', 6),\n",
       "             ('hate', 5),\n",
       "             ('//t.co/NH5dwQVBGK', 5),\n",
       "             ('100', 5),\n",
       "             ('Slate', 5),\n",
       "             ('keyboard', 5),\n",
       "             ('fix', 5),\n",
       "             ('mean', 5),\n",
       "             ('lifted', 5),\n",
       "             ('Must', 5),\n",
       "             ('though', 5),\n",
       "             ('128GB', 5),\n",
       "             ('away', 5),\n",
       "             ('//t.co/9wqvMbXTJT', 5),\n",
       "             ('Claims', 5),\n",
       "             ('launches', 5),\n",
       "             ('Cisco', 5),\n",
       "             ('Daily', 5),\n",
       "             ('Cut', 5),\n",
       "             ('back', 5),\n",
       "             ('shit', 5),\n",
       "             ('serious', 5),\n",
       "             ('Tablet', 5),\n",
       "             ('[', 5),\n",
       "             ('fuck', 5),\n",
       "             ('Model', 5),\n",
       "             ('World', 5),\n",
       "             ('year', 5),\n",
       "             ('3rd', 5),\n",
       "             ('think', 5),\n",
       "             ('Post', 5),\n",
       "             ('Pastor', 5),\n",
       "             ('Off', 5),\n",
       "             (']', 5),\n",
       "             ('black', 5),\n",
       "             ('review', 5),\n",
       "             ('screen', 5),\n",
       "             ('6s', 5),\n",
       "             ('In', 5),\n",
       "             ('around', 5),\n",
       "             ('read', 5),\n",
       "             ('Playing', 5),\n",
       "             ('Check', 5),\n",
       "             ('cable', 5),\n",
       "             ('SoDamnTrue', 5),\n",
       "             ('Top', 5),\n",
       "             ('So', 5),\n",
       "             ('Full', 5),\n",
       "             ('actually', 5),\n",
       "             ('put', 5),\n",
       "             ('Partnership', 5),\n",
       "             ('added', 5),\n",
       "             ('Powerful', 5),\n",
       "             ('game', 5),\n",
       "             ('NEW', 5),\n",
       "             ('Excellent', 5),\n",
       "             ('us', 5),\n",
       "             ('Books', 5),\n",
       "             ('single', 5),\n",
       "             ('AT', 5),\n",
       "             ('far', 5),\n",
       "             ('Back', 5),\n",
       "             ('next', 5),\n",
       "             ('ipad', 5),\n",
       "             ('Mid-Speech', 5),\n",
       "             ('THE', 5),\n",
       "             ('Hey', 5),\n",
       "             ('android', 5),\n",
       "             ('puppymnkey', 5),\n",
       "             ('add', 5),\n",
       "             ('Japan', 5),\n",
       "             ('9.7', 5),\n",
       "             ('MONEY', 4),\n",
       "             ('4', 4),\n",
       "             ('eclipses', 4),\n",
       "             ('Health', 4),\n",
       "             ('rights', 4),\n",
       "             ('Gear', 4),\n",
       "             ('India', 4),\n",
       "             ('smh', 4),\n",
       "             ('features', 4),\n",
       "             ('They', 4),\n",
       "             ('Washington', 4),\n",
       "             ('said', 4),\n",
       "             ('wtf', 4),\n",
       "             ('2nd', 4),\n",
       "             ('much', 4),\n",
       "             ('tho', 4),\n",
       "             ('yet', 4),\n",
       "             ('5C', 4),\n",
       "             ('Let', 4),\n",
       "             ('Best', 4),\n",
       "             ('na', 4),\n",
       "             ('updates', 4),\n",
       "             ('finally', 4),\n",
       "             ('Me', 4),\n",
       "             ('water', 4),\n",
       "             ('Free', 4),\n",
       "             ('Leather', 4),\n",
       "             ('Time', 4),\n",
       "             ('iPhone7', 4),\n",
       "             ('1', 4),\n",
       "             ('rather', 4),\n",
       "             ('Cable', 4),\n",
       "             ('Do', 4),\n",
       "             ('Bernardino', 4),\n",
       "             ('artist', 4),\n",
       "             ('FOR', 4),\n",
       "             ('many', 4),\n",
       "             ('Buy', 4),\n",
       "             ('//t.co/3O9gLzgAVs', 4),\n",
       "             ('realDonaldTrump', 4),\n",
       "             ('Story', 4),\n",
       "             ('How', 4),\n",
       "             ('woman', 4),\n",
       "             ('MatthewKick', 4),\n",
       "             ('S3', 4),\n",
       "             ('subcriptions', 4),\n",
       "             ('takes', 4),\n",
       "             ('Your', 4),\n",
       "             ('Vinegar', 4),\n",
       "             ('hell', 4),\n",
       "             ('Cook', 4),\n",
       "             ('together', 4),\n",
       "             ('believe', 4),\n",
       "             ('8', 4),\n",
       "             ('Bogus', 4),\n",
       "             ('used', 4),\n",
       "             ('Mac', 4),\n",
       "             ('go', 4),\n",
       "             ('Not', 4),\n",
       "             ('great', 4),\n",
       "             ('use', 4),\n",
       "             ('TechCrunch', 4),\n",
       "             ('RADIO', 4),\n",
       "             ('//t.co/9ApHWjeoUA', 4),\n",
       "             ('looks', 4),\n",
       "             ('dock', 4),\n",
       "             ('San', 4),\n",
       "             ('Pro', 4),\n",
       "             ('cider', 4),\n",
       "             ('From', 4),\n",
       "             ('CEO', 4),\n",
       "             ('//t.co/5VYJAIdIDM', 4),\n",
       "             ('Adam', 4),\n",
       "             ('Million', 4),\n",
       "             ('lose', 4),\n",
       "             ('amendment', 4),\n",
       "             ('_annettevan', 4),\n",
       "             ('//t.co/JWxcFefDWO', 4),\n",
       "             (\"'ll\", 4),\n",
       "             ('Like', 4),\n",
       "             ('4G', 4),\n",
       "             ('phones', 3),\n",
       "             ('//t.co/VC30eH7WNk', 3),\n",
       "             ('changed', 3),\n",
       "             ('Support', 3),\n",
       "             ('Reporter', 3),\n",
       "             ('gadgets', 3),\n",
       "             ('worse', 3),\n",
       "             ('amazing', 3),\n",
       "             ('wrong', 3),\n",
       "             ('Wild', 3),\n",
       "             ('troublemakers', 3),\n",
       "             ('better', 3),\n",
       "             ('Retina', 3),\n",
       "             ('September', 3),\n",
       "             ('2016-09-14', 3),\n",
       "             ('needed', 3),\n",
       "             ('Features', 3),\n",
       "             ('tree', 3),\n",
       "             ('mini', 3),\n",
       "             ('HuffingtonPost', 3),\n",
       "             ('tells', 3),\n",
       "             ('episode', 3),\n",
       "             ('tech', 3),\n",
       "             ('folks', 3),\n",
       "             ('report', 3),\n",
       "             ('bad', 3),\n",
       "             ('eBay', 3),\n",
       "             ('best', 3),\n",
       "             ('mistake', 3),\n",
       "             ('Of', 3),\n",
       "             ('5S', 3),\n",
       "             ('SavageHumor', 3),\n",
       "             ('buyers', 3),\n",
       "             ('5s', 3),\n",
       "             ('possible', 3),\n",
       "             ('everything', 3),\n",
       "             ('Hybrid', 3),\n",
       "             ('notifications', 3),\n",
       "             ('devices', 3),\n",
       "             ('Idc', 3),\n",
       "             ('Where', 3),\n",
       "             ('cool', 3),\n",
       "             ('peg', 3),\n",
       "             ('level', 3),\n",
       "             ('Shockproof', 3),\n",
       "             ('box', 3),\n",
       "             ('women', 3),\n",
       "             ('SE', 3),\n",
       "             ('BestBuy', 3),\n",
       "             ('making', 3),\n",
       "             ('date', 3),\n",
       "             ('ones', 3),\n",
       "             ('group', 3),\n",
       "             ('acknowledge', 3),\n",
       "             ('TPU', 3),\n",
       "             ('course', 3),\n",
       "             ('yeah', 3),\n",
       "             ('GomezNarry', 3),\n",
       "             ('dig', 3),\n",
       "             ('turn', 3),\n",
       "             ('Hollywood', 3),\n",
       "             ('//t.co/uMOF4Zxtqa', 3),\n",
       "             ('little', 3),\n",
       "             ('eyes', 3),\n",
       "             ('releases', 3),\n",
       "             ('take', 3),\n",
       "             ('Outpaces', 3),\n",
       "             ('Web', 3),\n",
       "             ('approval', 3),\n",
       "             ('mandari6', 3),\n",
       "             ('WAS', 3),\n",
       "             ('Attack', 3),\n",
       "             ('EVER', 3),\n",
       "             ('Clear', 3),\n",
       "             ('MKBHD', 3),\n",
       "             ('//t.co/mE6UPFJyhq', 3),\n",
       "             ('money', 3),\n",
       "             ('kill', 3),\n",
       "             ('listening', 3),\n",
       "             ('//t.co/E6tqSvYVQp', 3),\n",
       "             ('Streaming', 3),\n",
       "             ('outpaces', 3),\n",
       "             ('lol', 3),\n",
       "             ('//t.co/cP5lNn5Kws', 3),\n",
       "             ('House', 3),\n",
       "             ('//t.co/P5t9sj4BUF', 3),\n",
       "             ('USA', 3),\n",
       "             ('iClarified', 3),\n",
       "             ('//t.co/wtQ8ynJIhq', 3),\n",
       "             ('--', 3),\n",
       "             ('open', 3),\n",
       "             ('two', 3),\n",
       "             ('knows', 3),\n",
       "             ('Tech', 3),\n",
       "             ('round', 3),\n",
       "             ('Macbook', 3),\n",
       "             ('Thanks', 3),\n",
       "             ('Sport', 3),\n",
       "             ('everyone', 3),\n",
       "             ('another', 3),\n",
       "             ('ass', 3),\n",
       "             ('feel', 3),\n",
       "             ('number', 3),\n",
       "             ('meanpIastic', 3),\n",
       "             ('juice', 3),\n",
       "             ('also', 3),\n",
       "             ('rebels', 3),\n",
       "             ('font', 3),\n",
       "             ('Recode', 3),\n",
       "             ('please', 3),\n",
       "             ('IPHONE', 3),\n",
       "             ('ranked', 3),\n",
       "             ('let', 3),\n",
       "             ('battery', 3),\n",
       "             ('Online', 3),\n",
       "             ('Warner', 3),\n",
       "             ('understand', 3),\n",
       "             ('Software', 3),\n",
       "             ('Rachel', 3),\n",
       "             ('replaced', 3),\n",
       "             ('//t.co/HqKC3mynzF', 3),\n",
       "             ('thefader', 3),\n",
       "             ('9', 3),\n",
       "             ('Fool', 3),\n",
       "             ('Reaches', 3),\n",
       "             ('gadgetkingXL', 3),\n",
       "             ('long', 3),\n",
       "             ('Subscribers', 3),\n",
       "             ('today', 3),\n",
       "             ('%', 3),\n",
       "             ('users', 3),\n",
       "             ('giving', 3),\n",
       "             ('old-people', 3),\n",
       "             ('Swift', 3),\n",
       "             ('//t.co/oUeTdp2z41', 3),\n",
       "             ('crazy', 3),\n",
       "             ('misfits', 3),\n",
       "             ('something', 3),\n",
       "             ('Really', 3),\n",
       "             ('dat', 3),\n",
       "             ('//t.co/2wSq4Pc1cP', 3),\n",
       "             ('legendary', 3),\n",
       "             ('HATE', 3),\n",
       "             ('MacBook', 3),\n",
       "             ('recipes', 3),\n",
       "             ('keep', 3),\n",
       "             ('reaches', 3),\n",
       "             ('Rubber', 3),\n",
       "             ('reached', 3),\n",
       "             ('Pay', 3),\n",
       "             ('After', 3),\n",
       "             ('face', 3),\n",
       "             ('Growth', 3),\n",
       "             ('CauseWereWasted', 3),\n",
       "             ('//t.co/uOJ9uoy8np', 3),\n",
       "             ('LCD', 3),\n",
       "             ('//t.co/IOolhEClZv', 3),\n",
       "             ('Smart', 3),\n",
       "             ('Get', 3),\n",
       "             ('growth', 3),\n",
       "             ('2016', 3),\n",
       "             ('Wallet', 3),\n",
       "             ('stores', 3),\n",
       "             ('By', 3),\n",
       "             ('crisp', 3),\n",
       "             ('Up', 3),\n",
       "             ('apps', 3),\n",
       "             ('Condition', 3),\n",
       "             ('using', 3),\n",
       "             ('Does', 2),\n",
       "             ('NEW/SEALED', 2),\n",
       "             ('jfcyoungho', 2),\n",
       "             ('every', 2),\n",
       "             ('GB', 2),\n",
       "             ('BRAND', 2),\n",
       "             ('Bacon', 2),\n",
       "             ('FUCKING', 2),\n",
       "             ('Luxury', 2),\n",
       "             ('Flip', 2),\n",
       "             ('study', 2),\n",
       "             ('chargers', 2),\n",
       "             ('//t.co/2EPoV3pg49', 2),\n",
       "             ('locked', 2),\n",
       "             ('Screen', 2),\n",
       "             ('Reality', 2),\n",
       "             ('times', 2),\n",
       "             ('end', 2),\n",
       "             ('BlackBerry', 2),\n",
       "             ('replacing', 2),\n",
       "             ('//t.co/DGrMexe15A', 2),\n",
       "             ('purchase', 2),\n",
       "             ('third', 2),\n",
       "             ('7/7', 2),\n",
       "             ('Ale', 2),\n",
       "             ('headquarters', 2),\n",
       "             ('harambe', 2),\n",
       "             ('green', 2),\n",
       "             ('things', 2),\n",
       "             ('order', 2),\n",
       "             ('screaming', 2),\n",
       "             ('basicallylewis', 2),\n",
       "             ('Start', 2),\n",
       "             ('Colours', 2),\n",
       "             ('cheesy', 2),\n",
       "             ('University', 2),\n",
       "             ('W', 2),\n",
       "             ('wanted', 2),\n",
       "             ('Clinton', 2),\n",
       "             ('messages', 2),\n",
       "             ('fuckin', 2),\n",
       "             ('already', 2),\n",
       "             ('AppleMusic', 2),\n",
       "             ('white', 2),\n",
       "             ('Sticker', 2),\n",
       "             ('ebay', 2),\n",
       "             ('Galaxy', 2),\n",
       "             ('mine', 2),\n",
       "             ('//t.co/GyvUmwyfA4', 2),\n",
       "             ('Band', 2),\n",
       "             ('Jones', 2),\n",
       "             ('GovGaryJohnson', 2),\n",
       "             ('TUFF', 2),\n",
       "             ('wild', 2),\n",
       "             ('Agency', 2),\n",
       "             ('pops', 2),\n",
       "             ('Big', 2),\n",
       "             ('Brand', 2),\n",
       "             ('Eiffel', 2),\n",
       "             ('Over', 2),\n",
       "             ('twice', 2),\n",
       "             ('thanks', 2),\n",
       "             ('w/', 2),\n",
       "             ('Android', 2),\n",
       "             ('waiting', 2),\n",
       "             ('Roundup', 2),\n",
       "             ('wo', 2),\n",
       "             ('news', 2),\n",
       "             ('picking', 2),\n",
       "             ('fault', 2),\n",
       "             ('VIVID', 2),\n",
       "             ('kkgame', 2),\n",
       "             ('threw', 2),\n",
       "             ('smartwatch', 2),\n",
       "             ('In-Between', 2),\n",
       "             ('n', 2),\n",
       "             ('shame', 2),\n",
       "             ('Bolder', 2),\n",
       "             ('split', 2),\n",
       "             ('80s', 2),\n",
       "             ('i5', 2),\n",
       "             ('VR', 2),\n",
       "             ('Mini', 2),\n",
       "             ('Manager', 2),\n",
       "             ('Thank', 2),\n",
       "             ('IOS', 2),\n",
       "             ('Or', 2),\n",
       "             ('iMessage', 2),\n",
       "             ('specific', 2),\n",
       "             ('night', 2),\n",
       "             ('IPad', 2),\n",
       "             ('Lee', 2),\n",
       "             ('bottom', 2),\n",
       "             ('WearableTech', 2),\n",
       "             ('/', 2),\n",
       "             ('//t.co/IQ1ovDX0gS', 2),\n",
       "             ('Challenge', 2),\n",
       "             ('First', 2),\n",
       "             ('Shonathon', 2),\n",
       "             ('Still', 2),\n",
       "             ('slightly', 2),\n",
       "             ('wan', 2),\n",
       "             ('happy', 2),\n",
       "             ('hear', 2),\n",
       "             ('true', 2),\n",
       "             ('Interactive', 2),\n",
       "             ('tell', 2),\n",
       "             ('covert', 2),\n",
       "             ('Intel', 2),\n",
       "             ('floor', 2),\n",
       "             ('Drive', 2),\n",
       "             ('Eartips', 2),\n",
       "             ('Creating', 2),\n",
       "             ('Win', 2),\n",
       "             ('Emily', 2),\n",
       "             ('LTE', 2),\n",
       "             ('Maddow', 2),\n",
       "             ('Vendors', 2),\n",
       "             ('Gets', 2),\n",
       "             ('//t.co/6RmhtiioF1', 2),\n",
       "             ('Anti-Doping', 2),\n",
       "             ('Facebook', 2),\n",
       "             ('Various', 2),\n",
       "             ('advantage', 2),\n",
       "             ('DouglasABailey', 2),\n",
       "             ('accidentally', 2),\n",
       "             ('run', 2),\n",
       "             ('GyroSphere', 2),\n",
       "             ('DualShockers', 2),\n",
       "             ('downloaded', 2),\n",
       "             ('English', 2),\n",
       "             ('wait', 2),\n",
       "             ('Dear', 2),\n",
       "             ('extra', 2),\n",
       "             ('market', 2),\n",
       "             ('live', 2),\n",
       "             ('everywhere', 2),\n",
       "             ('Mic', 2),\n",
       "             ('Out', 2),\n",
       "             ('stream', 2),\n",
       "             ('Mix', 2),\n",
       "             ('Pizza', 2),\n",
       "             ('Who', 2),\n",
       "             ('Always', 2),\n",
       "             ('man', 2),\n",
       "             ('Exclusive', 2),\n",
       "             ('//t.co/yzl3JCk5xu', 2),\n",
       "             ('Fed', 2),\n",
       "             ('years', 2),\n",
       "             ('interesting', 2),\n",
       "             ('WTF', 2),\n",
       "             ('Fireball', 2),\n",
       "             ('//t.co/fDUuLlyxnV', 2),\n",
       "             ('individually', 2),\n",
       "             ('unlock', 2),\n",
       "             ('girl', 2),\n",
       "             ('looking', 2),\n",
       "             ('seriously', 2),\n",
       "             ('THANK', 2),\n",
       "             ('hulu', 2),\n",
       "             ('Stand', 2),\n",
       "             ('Even', 2),\n",
       "             ('soaring', 2),\n",
       "             ('tomorrow', 2),\n",
       "             ('anyone', 2),\n",
       "             ('friend', 2),\n",
       "             ('11', 2),\n",
       "             ('13', 2),\n",
       "             ('depressed', 2),\n",
       "             ('future', 2),\n",
       "             ('apples', 2),\n",
       "             ('Trailer', 2),\n",
       "             ('Acai', 2),\n",
       "             ('Mail', 2),\n",
       "             ('MD456LL/A', 2),\n",
       "             ('SHOCKPROOF', 2),\n",
       "             ('EarPods', 2),\n",
       "             ('begin', 2),\n",
       "             ('price', 2),\n",
       "             ('GOP', 2),\n",
       "             ('recipe', 2),\n",
       "             ('outside', 2),\n",
       "             ('Services', 2),\n",
       "             ('nearly', 2),\n",
       "             ('across', 2),\n",
       "             (\"y'all\", 2),\n",
       "             ('That', 2),\n",
       "             ('come', 2),\n",
       "             ('jeans', 2),\n",
       "             ('Note', 2),\n",
       "             ('Leader', 2),\n",
       "             ('_Acat_', 2),\n",
       "             ('38mm', 2),\n",
       "             ('WAY', 2),\n",
       "             ('Factory', 2),\n",
       "             ('Division', 2),\n",
       "             ('Plans', 2),\n",
       "             ('pay', 2),\n",
       "             ('Sim', 2),\n",
       "             ('Design', 2),\n",
       "             ('week', 2),\n",
       "             ('tracking', 2),\n",
       "             ('model', 2),\n",
       "             ('Pink', 2),\n",
       "             ('rest', 2),\n",
       "             ('Giveaway', 2),\n",
       "             ('giveawaybandit', 2),\n",
       "             ('Show', 2),\n",
       "             ('IoT', 2),\n",
       "             ('iMac', 2),\n",
       "             ('COVER+STYLUS', 2),\n",
       "             ('happened', 2),\n",
       "             ('squirt', 2),\n",
       "             ('CASE', 2),\n",
       "             ('Ivanka', 2),\n",
       "             ('favorite', 2),\n",
       "             (\"'d\", 2),\n",
       "             ('U.S.', 2),\n",
       "             ('CNNMoney', 2),\n",
       "             ('impressive', 2),\n",
       "             ('low', 2),\n",
       "             ('Moolah', 2),\n",
       "             ('trying', 2),\n",
       "             ('buying', 2),\n",
       "             ('wants', 2),\n",
       "             ('leaked', 2),\n",
       "             ('4.7', 2),\n",
       "             ('Hires', 2),\n",
       "             ('//t.co/aeB8nqujzo', 2),\n",
       "             ('//t.co/C8skFFAqYd', 2),\n",
       "             ('Fancy', 2),\n",
       "             ('songs', 2),\n",
       "             ('tv', 2),\n",
       "             ('Ear', 2),\n",
       "             ('ta', 2),\n",
       "             ('awful', 2),\n",
       "             ('condition', 2),\n",
       "             ('ciderboyscider', 2),\n",
       "             ('watchOS', 2),\n",
       "             ('learned', 2),\n",
       "             ('3587', 2),\n",
       "             ('7.9in', 2),\n",
       "             ('ahead', 2),\n",
       "             ('reason', 2),\n",
       "             ('healthier', 2),\n",
       "             ('pick', 2),\n",
       "             ('options', 2),\n",
       "             ('Core', 2),\n",
       "             ('Russian', 2),\n",
       "             ('company', 2),\n",
       "             ('sucks', 2),\n",
       "             ('SD', 2),\n",
       "             ('share', 2),\n",
       "             ('autumn', 2),\n",
       "             ('plans', 2),\n",
       "             ('coming', 2),\n",
       "             ('Signs', 2),\n",
       "             ('help', 2),\n",
       "             ('25', 2),\n",
       "             ('28', 2),\n",
       "             ('PLUS', 2),\n",
       "             ('someone', 2),\n",
       "             ('Wow', 2),\n",
       "             ('Bad', 2),\n",
       "             ('complain', 2),\n",
       "             ('easily', 2),\n",
       "             ('always', 2),\n",
       "             ('bestbuy', 2),\n",
       "             ('button', 2),\n",
       "             ('More', 2),\n",
       "             ('Wtf', 2),\n",
       "             ('Launches', 2),\n",
       "             ('issue', 2),\n",
       "             ('Keyboard', 2),\n",
       "             ('giveaway', 2),\n",
       "             ('jet', 2),\n",
       "             ('currently', 2),\n",
       "             ('advertisement', 2),\n",
       "             ('ECKO', 2),\n",
       "             ('behind', 2),\n",
       "             ('MattBondi_', 2),\n",
       "             ('part', 2),\n",
       "             ('convinced', 2),\n",
       "             ('grocery', 2),\n",
       "             ('Elemental', 2),\n",
       "             ('orders', 2),\n",
       "             ('sell', 2),\n",
       "             ('Food', 2),\n",
       "             ('Redd', 2),\n",
       "             ('play', 2),\n",
       "             ('reach', 2),\n",
       "             ('MD101LL/A', 2),\n",
       "             ('Hackers', 2),\n",
       "             ('clean', 2),\n",
       "             ('Cloud', 2),\n",
       "             ('Perfect', 2),\n",
       "             ('Trials', 2),\n",
       "             ('find', 2),\n",
       "             ('Magic', 2),\n",
       "             ('iWatch', 2),\n",
       "             ('bare', 2),\n",
       "             ('probably', 2),\n",
       "             ('//t.co/SUNULr1IoL', 2),\n",
       "             ('//t.co/V6aN6Da2dZ', 2),\n",
       "             ('//t.co/7AOvLIHx7m', 2),\n",
       "             ('point', 2),\n",
       "             ('SUPERSTARLIFE', 2),\n",
       "             ('Play', 2),\n",
       "             ('fire', 2),\n",
       "             ('crack', 2),\n",
       "             ('else', 2),\n",
       "             ('Starting', 2),\n",
       "             ('raw', 2),\n",
       "             ('Sales', 2),\n",
       "             ('Tim', 2),\n",
       "             ('ready', 2),\n",
       "             ('power', 2),\n",
       "             ('YOU', 2),\n",
       "             ('lower', 2),\n",
       "             ('//t.co/lX1hoFaOPA', 2),\n",
       "             ('crying', 2),\n",
       "             ('shitty', 2),\n",
       "             ('sounds', 2),\n",
       "             ('continue', 2),\n",
       "             ('IPhone', 2),\n",
       "             ('streaming', 2),\n",
       "             ('BIvvck', 2),\n",
       "             ('Box', 2),\n",
       "             ('Times', 2),\n",
       "             ('Pack', 2),\n",
       "             ('elementalcider', 2),\n",
       "             ('anything', 2),\n",
       "             ('yongguk', 2),\n",
       "             ('Bears', 2),\n",
       "             ('Painted', 2),\n",
       "             ('Ms.', 2),\n",
       "             ('Earphone', 2),\n",
       "             ('line', 2),\n",
       "             ('similar', 2),\n",
       "             ('ordered', 2),\n",
       "             ('Man', 2),\n",
       "             ('song', 2),\n",
       "             ('Lucky', 2),\n",
       "             ('karaswisher', 2),\n",
       "             ('notes', 2),\n",
       "             ('shock', 2),\n",
       "             ('video', 2),\n",
       "             ('download', 2),\n",
       "             ('acid', 2),\n",
       "             ('3D', 2),\n",
       "             ('Has', 2),\n",
       "             ('business', 2),\n",
       "             ('Boys', 2),\n",
       "             ('Video', 2),\n",
       "             ('5778', 2),\n",
       "             ('32', 2),\n",
       "             ('siri', 2),\n",
       "             ('stevejobs', 2),\n",
       "             ('//t.co/xvvmBbcG5B', 2),\n",
       "             ('hints', 2),\n",
       "             ('Tupac', 2),\n",
       "             ('Party', 2),\n",
       "             ('Shipments', 2),\n",
       "             ('//t.co/TLPMjLDSrC', 2),\n",
       "             ('MC980LL/A', 2),\n",
       "             ('//t.co/6Ka8ygUGyq', 2),\n",
       "             ('realized', 2),\n",
       "             ('Quick', 2),\n",
       "             ('Silicone', 2),\n",
       "             ('2014', 2),\n",
       "             ('2013', 2),\n",
       "             ('2012', 2),\n",
       "             ('hands', 2),\n",
       "             ('Kylie', 2),\n",
       "             ('mode', 2),\n",
       "             ('Weekly', 2),\n",
       "             ('Next', 2),\n",
       "             ('hearables', 2),\n",
       "             ('Which', 2),\n",
       "             ('ARMOR', 2),\n",
       "             ('RyanMorse33', 2),\n",
       "             ('shut', 2),\n",
       "             ('iPhones', 2),\n",
       "             ('receipts', 2),\n",
       "             ('playlist', 2),\n",
       "             ('eWEEKNews', 2),\n",
       "             ('Siri', 2),\n",
       "             ('Edition', 2),\n",
       "             ('bet', 2),\n",
       "             ('Veteran', 2),\n",
       "             ('code', 2),\n",
       "             ('//t.co/Rbk04T2ZNb', 2),\n",
       "             ('complete', 2),\n",
       "             ('able', 2),\n",
       "             ('//t.co/FsCXnGJqvR', 2),\n",
       "             ('whatgives', 2),\n",
       "             ('Games', 2),\n",
       "             ('Enter', 2),\n",
       "             ('Some', 2),\n",
       "             ('fact', 2),\n",
       "             ('text', 2),\n",
       "             ('//t.co/Wc0tLW9K1M', 2),\n",
       "             ('York', 2),\n",
       "             ('chips', 2),\n",
       "             ('Good', 2),\n",
       "             ('job', 2),\n",
       "             ('iPod', 2),\n",
       "             ('Lol', 2),\n",
       "             ('playlists', 2),\n",
       "             ('ItsFlatteringWhen', 2),\n",
       "             ('Gel', 2),\n",
       "             ('Earbuds', 2),\n",
       "             ('Pulling', 2),\n",
       "             ('agency', 2),\n",
       "             ('inch', 2),\n",
       "             ('party', 2),\n",
       "             ('gets', 2),\n",
       "             ('35.', 2),\n",
       "             ...])"
      ]
     },
     "execution_count": 67,
     "metadata": {},
     "output_type": "execute_result"
    }
   ],
   "source": [
    "#Now sort the values. Need to first import an Ordered Dictionary module, \n",
    "# becuase it's exceedingly annoying to order a regular python dictionary.\n",
    "\n",
    "from collections import OrderedDict\n",
    "\n",
    "ordered_words_dict = OrderedDict(sorted(words_dict.items(), reverse=True, key= lambda x: x[1]))\n",
    "\n",
    "#Remove punctuation\n",
    "\n",
    "punc = [':','.','#','@','-','$','(',',',')','``','\\'\\'']\n",
    "\n",
    "for word in ordered_words_dict:\n",
    "    if word in punc:\n",
    "        ordered_words_dict.pop(word)\n",
    "\n",
    "#Remove stopwords\n",
    "\n",
    "for t in nltk.corpus.stopwords.words('english'):\n",
    "    if t in ordered_words_dict:\n",
    "        ordered_words_dict.pop(t)\n",
    "        \n",
    "ordered_words_dict"
   ]
  },
  {
   "cell_type": "markdown",
   "metadata": {},
   "source": [
    "That was needlessly more hard than using Counter, but it shows how to use NLTK to do it."
   ]
  },
  {
   "cell_type": "markdown",
   "metadata": {},
   "source": [
    "#### Third – POS Tagging, or what seems to be the most popular usage of NLTK (if you look around the internet)."
   ]
  },
  {
   "cell_type": "markdown",
   "metadata": {},
   "source": [
    "Let's see what the most common parts of speech are in our Apple tweets."
   ]
  },
  {
   "cell_type": "code",
   "execution_count": 68,
   "metadata": {
    "collapsed": false
   },
   "outputs": [],
   "source": [
    "#Module already imported from text tokenize.\n",
    "\n",
    "tags = {}\n",
    "\n",
    "for text in tweets:\n",
    "    words = word_tokenize(text)\n",
    "    sentence_pos = nltk.pos_tag(words)\n",
    "    \n",
    "    for pos in sentence_pos:\n",
    "        if pos[1] not in tags:\n",
    "            tags[pos[1]] = 1\n",
    "        else:\n",
    "            tags[pos[1]] +=1\n",
    "            \n",
    "#And remove punctuation\n",
    "\n",
    "punc = [':','.','#','@','-','$','(',',',')','``','\\'\\'']\n",
    "\n",
    "for tag in tags.keys(): #Make sure to use .keys(), or you get a RunTime Error for changing the dict size\n",
    "    if tag in punc:\n",
    "        tags.pop(tag)"
   ]
  },
  {
   "cell_type": "markdown",
   "metadata": {},
   "source": [
    "Let's graph the POS tags by frequency, and take a look at the definition of some of the most popular ones."
   ]
  },
  {
   "cell_type": "code",
   "execution_count": 69,
   "metadata": {
    "collapsed": false
   },
   "outputs": [
    {
     "data": {
      "text/plain": [
       "<matplotlib.axes._subplots.AxesSubplot at 0x119ac9c10>"
      ]
     },
     "execution_count": 69,
     "metadata": {},
     "output_type": "execute_result"
    },
    {
     "data": {
      "image/png": "[encoded data removed]",
      "text/plain": [
       "<matplotlib.figure.Figure at 0x11974ef90>"
      ]
     },
     "metadata": {},
     "output_type": "display_data"
    }
   ],
   "source": [
    "#Define our variables\n",
    "\n",
    "y = tags.keys()\n",
    "x = tags.values()\n",
    "\n",
    "sns.barplot(x=x, y=y)"
   ]
  },
  {
   "cell_type": "code",
   "execution_count": 70,
   "metadata": {
    "collapsed": false
   },
   "outputs": [
    {
     "name": "stdout",
     "output_type": "stream",
     "text": [
      "NN: noun, common, singular or mass\n",
      "    common-carrier cabbage knuckle-duster Casino afghan shed thermostat\n",
      "    investment slide humour falloff slick wind hyena override subhumanity\n",
      "    machinist ...\n"
     ]
    }
   ],
   "source": [
    "nltk.help.upenn_tagset('NN')"
   ]
  },
  {
   "cell_type": "code",
   "execution_count": 71,
   "metadata": {
    "collapsed": false
   },
   "outputs": [
    {
     "name": "stdout",
     "output_type": "stream",
     "text": [
      "NNP: noun, proper, singular\n",
      "    Motown Venneboerger Czestochwa Ranzer Conchita Trumplane Christos\n",
      "    Oceanside Escobar Kreisler Sawyer Cougar Yvette Ervin ODI Darryl CTCA\n",
      "    Shannon A.K.C. Meltex Liverpool ...\n"
     ]
    }
   ],
   "source": [
    "nltk.help.upenn_tagset('NNP')"
   ]
  },
  {
   "cell_type": "code",
   "execution_count": 72,
   "metadata": {
    "collapsed": false
   },
   "outputs": [
    {
     "name": "stdout",
     "output_type": "stream",
     "text": [
      "JJ: adjective or numeral, ordinal\n",
      "    third ill-mannered pre-war regrettable oiled calamitous first separable\n",
      "    ectoplasmic battery-powered participatory fourth still-to-be-named\n",
      "    multilingual multi-disciplinary ...\n"
     ]
    }
   ],
   "source": [
    "nltk.help.upenn_tagset('JJ')"
   ]
  },
  {
   "cell_type": "code",
   "execution_count": 73,
   "metadata": {
    "collapsed": false
   },
   "outputs": [
    {
     "name": "stdout",
     "output_type": "stream",
     "text": [
      "IN: preposition or conjunction, subordinating\n",
      "    astride among uppon whether out inside pro despite on by throughout\n",
      "    below within for towards near behind atop around if like until below\n",
      "    next into if beside ...\n"
     ]
    }
   ],
   "source": [
    "nltk.help.upenn_tagset('IN')"
   ]
  },
  {
   "cell_type": "code",
   "execution_count": 74,
   "metadata": {
    "collapsed": false
   },
   "outputs": [
    {
     "name": "stdout",
     "output_type": "stream",
     "text": [
      "VBP: verb, present tense, not 3rd person singular\n",
      "    predominate wrap resort sue twist spill cure lengthen brush terminate\n",
      "    appear tend stray glisten obtain comprise detest tease attract\n",
      "    emphasize mold postpone sever return wag ...\n"
     ]
    }
   ],
   "source": [
    "nltk.help.upenn_tagset('VBP')"
   ]
  },
  {
   "cell_type": "markdown",
   "metadata": {},
   "source": [
    "Not surprising – nouns, adjectives, prepositions, and verbs are the most popular POS tags in our tweets."
   ]
  },
  {
   "cell_type": "markdown",
   "metadata": {
    "collapsed": true
   },
   "source": [
    "### The big finale – creating a sentiment analyzer with TextBlob"
   ]
  },
  {
   "cell_type": "markdown",
   "metadata": {},
   "source": [
    "The easiest way to analyze tweet sentiment without having to create a whole complicated classifier (and finding training data!) is using TextBlob's sentiment analysis tools."
   ]
  },
  {
   "cell_type": "code",
   "execution_count": 116,
   "metadata": {
    "collapsed": false
   },
   "outputs": [],
   "source": [
    "from textblob import TextBlob"
   ]
  },
  {
   "cell_type": "markdown",
   "metadata": {},
   "source": [
    "Before we do that though, we need to remove all of those spammy tweets we found above."
   ]
  },
  {
   "cell_type": "code",
   "execution_count": 101,
   "metadata": {
    "collapsed": false
   },
   "outputs": [],
   "source": [
    "for key in tweets.keys():\n",
    "    if '\"mytraining\"' in tweets[key]:\n",
    "        tweets.drop(key)"
   ]
  },
  {
   "cell_type": "markdown",
   "metadata": {},
   "source": [
    "Before we pass our tweets into TextBlob's sentiment function, we should clean them up and remove links and such."
   ]
  },
  {
   "cell_type": "code",
   "execution_count": 109,
   "metadata": {
    "collapsed": true
   },
   "outputs": [],
   "source": [
    "#Import the regular expressions module – code borrowed from http://ravikiranj.net/posts/2012/code/how-build-twitter-sentiment-analyzer/\n",
    "\n",
    "import re\n",
    "\n",
    "def scrubTweet(tweet):\n",
    "    \n",
    "    #All lower case\n",
    "    tweet = tweet.lower()\n",
    "    \n",
    "    #Remove links\n",
    "    tweet = re.sub('((www\\.[^\\s]+)|(https?://[^\\s]+))','',tweet)\n",
    "    \n",
    "    #Convert @user to AT_USER\n",
    "    tweet = re.sub('@[^\\s]+','',tweet)\n",
    "    \n",
    "    #Remove whitespace\n",
    "    tweet = re.sub('[\\s]+',' ',tweet)\n",
    "    \n",
    "    #Replace #hashtag with hashtag\n",
    "    tweet = re.sub(r'#([^\\s])+', r'\\1', tweet)\n",
    "    \n",
    "    tweet.strip('\\'\"')\n",
    "    \n",
    "    return tweet"
   ]
  },
  {
   "cell_type": "code",
   "execution_count": 111,
   "metadata": {
    "collapsed": false
   },
   "outputs": [],
   "source": [
    "#Run the scrubber on our tweets\n",
    "\n",
    "for tweet in tweets:\n",
    "    scrubTweet(tweet)"
   ]
  },
  {
   "cell_type": "markdown",
   "metadata": {},
   "source": [
    "Now we can run the sentiment function on each of our tweets and put the results in a dataframe."
   ]
  },
  {
   "cell_type": "code",
   "execution_count": 119,
   "metadata": {
    "collapsed": true
   },
   "outputs": [],
   "source": [
    "sentiments = pd.DataFrame()\n",
    "\n",
    "sentiments['tweet'] = tweets"
   ]
  },
  {
   "cell_type": "code",
   "execution_count": 120,
   "metadata": {
    "collapsed": false
   },
   "outputs": [],
   "source": [
    "polarities = []\n",
    "subjectivities = []\n",
    "\n",
    "for tweet in tweets:\n",
    "    tweet_blob = TextBlob(tweet)\n",
    "    \n",
    "    polarity = tweet_blob.sentiment.polarity\n",
    "    polarities.append(polarity)\n",
    "    \n",
    "    subjectivity = tweet_blob.sentiment.subjectivity\n",
    "    subjectivities.append(subjectivity)\n",
    "    \n",
    "sentiments['polarity'] = polarities\n",
    "sentiments['subjectivity'] = subjectivities"
   ]
  },
  {
   "cell_type": "code",
   "execution_count": 122,
   "metadata": {
    "collapsed": false
   },
   "outputs": [
    {
     "data": {
      "text/html": [
       "<div>\n",
       "<table border=\"1\" class=\"dataframe\">\n",
       "  <thead>\n",
       "    <tr style=\"text-align: right;\">\n",
       "      <th></th>\n",
       "      <th>polarity</th>\n",
       "      <th>subjectivity</th>\n",
       "    </tr>\n",
       "  </thead>\n",
       "  <tbody>\n",
       "    <tr>\n",
       "      <th>count</th>\n",
       "      <td>942.000000</td>\n",
       "      <td>942.000000</td>\n",
       "    </tr>\n",
       "    <tr>\n",
       "      <th>mean</th>\n",
       "      <td>0.123202</td>\n",
       "      <td>0.353010</td>\n",
       "    </tr>\n",
       "    <tr>\n",
       "      <th>std</th>\n",
       "      <td>0.265530</td>\n",
       "      <td>0.327273</td>\n",
       "    </tr>\n",
       "    <tr>\n",
       "      <th>min</th>\n",
       "      <td>-1.000000</td>\n",
       "      <td>0.000000</td>\n",
       "    </tr>\n",
       "    <tr>\n",
       "      <th>25%</th>\n",
       "      <td>0.000000</td>\n",
       "      <td>0.000000</td>\n",
       "    </tr>\n",
       "    <tr>\n",
       "      <th>50%</th>\n",
       "      <td>0.000000</td>\n",
       "      <td>0.400000</td>\n",
       "    </tr>\n",
       "    <tr>\n",
       "      <th>75%</th>\n",
       "      <td>0.250000</td>\n",
       "      <td>0.559754</td>\n",
       "    </tr>\n",
       "    <tr>\n",
       "      <th>max</th>\n",
       "      <td>1.000000</td>\n",
       "      <td>1.000000</td>\n",
       "    </tr>\n",
       "  </tbody>\n",
       "</table>\n",
       "</div>"
      ],
      "text/plain": [
       "         polarity  subjectivity\n",
       "count  942.000000    942.000000\n",
       "mean     0.123202      0.353010\n",
       "std      0.265530      0.327273\n",
       "min     -1.000000      0.000000\n",
       "25%      0.000000      0.000000\n",
       "50%      0.000000      0.400000\n",
       "75%      0.250000      0.559754\n",
       "max      1.000000      1.000000"
      ]
     },
     "execution_count": 122,
     "metadata": {},
     "output_type": "execute_result"
    }
   ],
   "source": [
    "sentiments.describe()"
   ]
  },
  {
   "cell_type": "markdown",
   "metadata": {},
   "source": [
    "And there is is! The average sentiment of the tweets we collected was .123 on a scale between -1 and 1. That's pretty close to neutral, so it's not terrible, but it's not great either."
   ]
  }
 ],
 "metadata": {
  "anaconda-cloud": {},
  "kernelspec": {
   "display_name": "Python [Root]",
   "language": "python",
   "name": "Python [Root]"
  },
  "language_info": {
   "codemirror_mode": {
    "name": "ipython",
    "version": 2
   },
   "file_extension": ".py",
   "mimetype": "text/x-python",
   "name": "python",
   "nbconvert_exporter": "python",
   "pygments_lexer": "ipython2",
   "version": "2.7.12"
  }
 },
 "nbformat": 4,
 "nbformat_minor": 0
}
